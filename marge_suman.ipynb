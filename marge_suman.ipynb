{
 "cells": [
  {
   "cell_type": "code",
   "execution_count": 1,
   "id": "a3b6539c",
   "metadata": {},
   "outputs": [],
   "source": [
    "# Input\n",
    "inPath = \"D:\\\\Nov2023\\\\Suman\\\\\"\n",
    "outPath = \"D:\\\\Nov2023\\\\Suman\\\\\"\n",
    "\n",
    "sheets = ['ABC1', 'ABC2']\n",
    "files = ['Suman1.xlsx','Suman2.xlsx','Suman3.xlsx']"
   ]
  },
  {
   "cell_type": "code",
   "execution_count": 2,
   "id": "6f80c0d5",
   "metadata": {},
   "outputs": [],
   "source": [
    "import pandas as pd"
   ]
  },
  {
   "cell_type": "code",
   "execution_count": 3,
   "id": "c88dd511",
   "metadata": {},
   "outputs": [],
   "source": [
    "margeSheet = {}\n",
    "for sheet in sheets:\n",
    "    margeFile = []\n",
    "    for file in files:\n",
    "        margeFile.append(pd.read_excel(inPath+file,sheet_name = sheet))\n",
    "        \n",
    "    margeSheet[sheet]=margeFile"
   ]
  },
  {
   "cell_type": "code",
   "execution_count": 4,
   "id": "7532c1a8",
   "metadata": {},
   "outputs": [],
   "source": [
    "out = {}\n",
    "\n",
    "for sheet in margeSheet.keys():\n",
    "    out[sheet] = pd.concat(margeSheet[sheet], axis = 0)"
   ]
  },
  {
   "cell_type": "code",
   "execution_count": 5,
   "id": "a08538d7",
   "metadata": {},
   "outputs": [],
   "source": [
    "for wrkst in out.keys():\n",
    "    out[wrkst].to_csv(outPath+wrkst+'.csv')"
   ]
  },
  {
   "cell_type": "code",
   "execution_count": null,
   "id": "d8d5c5a7",
   "metadata": {},
   "outputs": [],
   "source": []
  }
 ],
 "metadata": {
  "kernelspec": {
   "display_name": "Python 3 (ipykernel)",
   "language": "python",
   "name": "python3"
  },
  "language_info": {
   "codemirror_mode": {
    "name": "ipython",
    "version": 3
   },
   "file_extension": ".py",
   "mimetype": "text/x-python",
   "name": "python",
   "nbconvert_exporter": "python",
   "pygments_lexer": "ipython3",
   "version": "3.9.13"
  }
 },
 "nbformat": 4,
 "nbformat_minor": 5
}
